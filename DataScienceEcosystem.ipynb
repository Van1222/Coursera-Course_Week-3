{
 "cells": [
  {
   "cell_type": "markdown",
   "id": "2fe01371-0d50-4c1d-8536-e826c4d6f294",
   "metadata": {},
   "source": [
    "# Data Science Tools and Ecosystem"
   ]
  },
  {
   "cell_type": "markdown",
   "id": "c00e0073-a390-43c3-bb93-bd90da0b879f",
   "metadata": {},
   "source": [
    "In this notebook, Data Science Tools and Ecosystem are summarized."
   ]
  },
  {
   "cell_type": "markdown",
   "id": "f59a6367-37de-451c-a469-14581bdf6c6e",
   "metadata": {},
   "source": [
    "Some of the popular languages that Data Scientists use are:\n",
    "1. Python\n",
    "2. R\n",
    "3. SQL\n",
    "4. Java\n",
    "5. Scala"
   ]
  },
  {
   "cell_type": "markdown",
   "id": "3ebb3532-f9bc-48dc-a53a-a96e2c4ec577",
   "metadata": {},
   "source": [
    "Some of the commonly used library used by Data Scientists include:\n",
    "1. PANDAS\n",
    "2. NUMPY\n",
    "3. scikit-Learn\n",
    "4. TensorFlow\n",
    "5. PyTorch"
   ]
  },
  {
   "cell_type": "markdown",
   "id": "b1d983d0-4fa6-48cd-a358-6d8d518f0175",
   "metadata": {},
   "source": [
    "| Data Science Tools |\n",
    "| --- |\n",
    "| Spyder |\n",
    "| JupyterLabs |\n",
    "| PyCharm |"
   ]
  },
  {
   "cell_type": "markdown",
   "id": "14e7aded-1dd1-4c09-baad-3b5f9fc7ecf6",
   "metadata": {},
   "source": [
    "### Below are a few examples of evaluating arithmetic expressions in Python"
   ]
  },
  {
   "cell_type": "code",
   "execution_count": 2,
   "id": "c7616b8b-6976-48fd-b9cf-c2f07168f44f",
   "metadata": {},
   "outputs": [
    {
     "data": {
      "text/plain": [
       "17"
      ]
     },
     "execution_count": 2,
     "metadata": {},
     "output_type": "execute_result"
    }
   ],
   "source": [
    "# This is a simple arithmeitc expression to multiply then add integers.\n",
    "(3*4)+5"
   ]
  },
  {
   "cell_type": "code",
   "execution_count": 3,
   "id": "a9bc3837-2562-40c6-944b-9bc70ef65dd4",
   "metadata": {},
   "outputs": [
    {
     "data": {
      "text/plain": [
       "3.3333333333333335"
      ]
     },
     "execution_count": 3,
     "metadata": {},
     "output_type": "execute_result"
    }
   ],
   "source": [
    "# This will convert 200 minutes into hours by dividing by 60\n",
    "200 / 60"
   ]
  },
  {
   "cell_type": "markdown",
   "id": "12ca95ec-49b6-41e0-bd6c-4319f3592060",
   "metadata": {},
   "source": [
    "**Objectives:**\n",
    "- List popular languages for Data Science\n",
    "- List common libraries for Data Science\n",
    "- Provide examples of arithmetic expressions in Python\n",
    "- Demonstrate knowledge of code versus Markdown in Jupyter Notebook\n",
    "- Demonstrate knowledge of Markdown formatting in Jupyter Notebook"
   ]
  },
  {
   "cell_type": "markdown",
   "id": "34b5e2fa-761e-4da7-a443-276a9c1259b4",
   "metadata": {},
   "source": [
    "## Author\n",
    "Nichole Kwiatkowski"
   ]
  }
 ],
 "metadata": {
  "kernelspec": {
   "display_name": "Python",
   "language": "python",
   "name": "conda-env-python-py"
  },
  "language_info": {
   "codemirror_mode": {
    "name": "ipython",
    "version": 3
   },
   "file_extension": ".py",
   "mimetype": "text/x-python",
   "name": "python",
   "nbconvert_exporter": "python",
   "pygments_lexer": "ipython3",
   "version": "3.7.12"
  }
 },
 "nbformat": 4,
 "nbformat_minor": 5
}
